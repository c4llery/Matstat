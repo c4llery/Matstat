{
 "cells": [
  {
   "cell_type": "code",
   "execution_count": 153,
   "id": "a8908768-3a2f-4e04-bf2b-e705bbb0a42b",
   "metadata": {},
   "outputs": [],
   "source": [
    "import numpy as np\n",
    "import matplotlib.pyplot as plt"
   ]
  },
  {
   "cell_type": "code",
   "execution_count": 166,
   "id": "943cb8bd-214d-4a27-8c01-74734b832204",
   "metadata": {
    "scrolled": true
   },
   "outputs": [
    {
     "name": "stdout",
     "output_type": "stream",
     "text": [
      "[1.0064664123623286, 1.009955129931314, 1.0125907325339416, 1.012695375247297, 1.0148124083251457, 1.0183341690736072, 1.019971496660453, 1.0218190435295753, 1.0234672109705165, 1.0252941570955894, 1.0317190612102864, 1.0326277851846313, 1.0326776241710627, 1.0444209730716425, 1.045549038229822, 1.0512278060999736, 1.0545333408656052, 1.0551700430337543, 1.0586866920070057, 1.070709867514303, 1.0736414421739153, 1.0757246205679496, 1.076974655550331, 1.0789417088485178, 1.0790856023509792, 1.090278208980464, 1.090455281085347, 1.093675105960379, 1.0957241478871018, 1.0986031274886923, 1.100714515630089, 1.1019252869955827, 1.102303630257441, 1.1075359661626951, 1.108944719209668, 1.1096287624806382, 1.1097601868672353, 1.1107185742312882, 1.1120962609359282, 1.1134487512543667, 1.1153943146483338, 1.1207092383092563, 1.127224367449608, 1.130144580777427, 1.1308387100652368, 1.1345615091773291, 1.1356022453371266, 1.1361185325015695, 1.1604770472692414, 1.1625323698256116, 1.1732888513281328, 1.1837508770400973, 1.1879726704962208, 1.1905919041878905, 1.1949674223837112, 1.1961835824532876, 1.2030219968075313, 1.2062214249786993, 1.222720247862406, 1.2334174195164664, 1.2371112099542785, 1.240425170071468, 1.2514958955912852, 1.2716612200977426, 1.2794087008633583, 1.2814358065862363, 1.2836914163685054, 1.3061692774990785, 1.3503048866019014, 1.3505958354081316, 1.3542245849301342, 1.3585490984505744, 1.3699292077152905, 1.3814287209263745, 1.3927817785202539, 1.3932414414469498, 1.4031102133817868, 1.4090026934359838, 1.4145046354788278, 1.447378566503259, 1.455241324728105, 1.4659947237333055, 1.5002212882899262, 1.5268389773810604, 1.5377295262956603, 1.5522087590071567, 1.5562202017478701, 1.5929376313574386, 1.6035042360568066, 1.6165370905962668, 1.646107869331955, 1.6786723771755099, 1.6977672941069881, 1.8268427543992074, 1.9404079462349275, 1.963003714223354, 1.9699748214164137, 2.0057654552889757, 2.4016169926522966, 2.5569162332254636]\n"
     ]
    }
   ],
   "source": [
    "theta = 5.532\n",
    "n = 100\n",
    "random_array = np.random.rand(n)\n",
    "x = (1 - random_array) ** (1/(1 - theta))\n",
    "x = sorted(x)\n",
    "print(x) #жёстко нагенерили полный массив случайных величин\n",
    "\n",
    "def get_bootstrap_sample(x, B_sample = 1000):\n",
    "    N = len(x)\n",
    "    result = list()\n",
    "    for i in range (B_sample):\n",
    "        sample = np.random.choice(x, size = N, replace = True)\n",
    "        if (B_sample == 1):\n",
    "            sample = sample.T[0]\n",
    "        result.append(sample)\n",
    "    return result"
   ]
  },
  {
   "cell_type": "markdown",
   "id": "9981199c-9998-4cb8-b892-81f05b104ba7",
   "metadata": {},
   "source": [
    "## Доверительный интервал для медианы"
   ]
  },
  {
   "cell_type": "code",
   "execution_count": 178,
   "id": "0ec861b2-598e-4710-9c4b-5f1f906b97a9",
   "metadata": {},
   "outputs": [],
   "source": [
    "def theta_waved(a, n = 100):\n",
    "    sum = 0\n",
    "    for i in range(n):\n",
    "        sum += np.log(a[i])\n",
    "    return len(a) / sum + 1\n",
    "    \n",
    "def median(a):\n",
    "    theta_w = theta_waved(x)\n",
    "    left_part_chisl = -1.96 * np.log(2) * (2 ** (1 / (theta_w - 1)))\n",
    "    left_part_znam = (theta_w - 1)  * n ** (1/2)\n",
    "    left_part_med = left_part_chisl / left_part_znam + 2 ** (1 / (theta_w - 1))\n",
    "    right_part_chisl = 1.96 * np.log(2) * (2 ** (1 / (theta_w - 1)))\n",
    "    right_part_znam = (theta_w - 1)  * n ** (1/2)\n",
    "    right_part_med = right_part_chisl / right_part_znam + 2 ** (1 / (theta_w - 1))\n",
    "    print('                    МЕДИАНА')\n",
    "    print(left_part_med, '< theta <', right_part_med)\n",
    "    print('Длина доверительного интервала равна', right_part_med - left_part_med)\n",
    "    print()\n",
    "    return left_part_med, right_part_med"
   ]
  },
  {
   "cell_type": "markdown",
   "id": "71ccc1f4-732d-4ae9-a34c-be028ceb83db",
   "metadata": {},
   "source": [
    "## Асимптотический доверительный интервал для параметра $\\theta$"
   ]
  },
  {
   "cell_type": "code",
   "execution_count": 179,
   "id": "eb6ca0f1-228f-4708-9436-fb5b0c9211f7",
   "metadata": {},
   "outputs": [],
   "source": [
    "def theta_est(a):\n",
    "    theta_w = theta_waved(a)\n",
    "    left_part_as = -1.96 * (theta_w - 1) / (n ** 1/2) + theta_w\n",
    "    right_part_as = 1.96 * (theta_w - 1) / (n ** 1/2) + theta_w\n",
    "    print('    АСИМПТОТИЧЕСКИЙ ДОВЕРИТЕЛЬНЫЙ ИНТЕРВАЛ ДЛЯ ПАРАМЕТРА')\n",
    "    print(left_part_as, \"< theta <\", right_part_as)\n",
    "    print('Длина доверительного интервала равна', right_part_as - left_part_as)\n",
    "    print()\n",
    "    return left_part_as, right_part_as"
   ]
  },
  {
   "cell_type": "markdown",
   "id": "6fe5b312-3db7-4efe-a15b-142d76b3d375",
   "metadata": {},
   "source": [
    "## Бутстраповский доверительный интервал для $\\theta$ (парам.)"
   ]
  },
  {
   "cell_type": "code",
   "execution_count": 180,
   "id": "27b9ca80-4cb5-4791-b736-5eb68f014517",
   "metadata": {},
   "outputs": [],
   "source": [
    "def boot_par(a):\n",
    "    origin_est = theta_waved(a)\n",
    "    tetta = origin_est\n",
    "    n = 100\n",
    "    sample = list()\n",
    "    sample_grade = list()\n",
    "    for i in range(50000):\n",
    "        sample.append(np.random.uniform(tetta, 2 * tetta, n))\n",
    "        sample_grade.append(theta_waved(sample[i]))\n",
    "    sample_grade = np.array(sample_grade)\n",
    "    sample_grade.sort()\n",
    "    k1 = 1249\n",
    "    k2 = 48749\n",
    "    left_part_par = sample_grade[k1]\n",
    "    right_part_par = sample_grade[k2]\n",
    "    print('    БУТСТРАПОВСКИЙ ДОВЕРИТЕЛЬНЫЙ ИНТЕРВАЛ (ПАРАМЕТРИЧЕСКИЙ)')\n",
    "    print(left_part_par, '< theta <', right_part_par)\n",
    "    print('Длина бутстраповского доверительного интервала (парам.) равна', right_part_par - left_part_par)\n",
    "    print()\n",
    "    return left_part_par, right_part_par"
   ]
  },
  {
   "cell_type": "markdown",
   "id": "718fd473-6213-45fb-8a4a-d0b78c7a3e32",
   "metadata": {},
   "source": [
    "## Бутстраповский доверительный интервал для $\\theta$ (непарам.)"
   ]
  },
  {
   "cell_type": "code",
   "execution_count": 181,
   "id": "e9ad1a07-ccf7-49ed-9b72-6fd8d7c6053e",
   "metadata": {},
   "outputs": [],
   "source": [
    "def boot_nep(a):\n",
    "    origin_est = theta_waved(a)\n",
    "    sample = np.array(get_bootstrap_sample(a))\n",
    "    boot_est = list()\n",
    "    for i in range(1000):\n",
    "        boot_est.append(theta_waved(sample[i]))\n",
    "    boot_est = np.array(boot_est)\n",
    "    delta = boot_est - origin_est\n",
    "    delta.sort()\n",
    "    k1 = 24\n",
    "    k2 = 974\n",
    "    right_part_nep = origin_est - delta[k1]\n",
    "    left_part_nep = origin_est - delta[k2]\n",
    "    print('   БУТСТРАПОВСКИЙ ДОВЕРИТЕЛЬНЫЙ ИНТЕРВАЛ (НЕПАРАМЕТРИЧЕСКИЙ)')\n",
    "    print(left_part_nep, '< theta <', right_part_nep)\n",
    "    print('Длина бутстраповского доверительного интервала равна (непарам)', right_part_nep - left_part_nep)\n",
    "    print()\n",
    "    return left_part_nep, right_part_nep"
   ]
  },
  {
   "cell_type": "code",
   "execution_count": 182,
   "id": "77035241-b835-4d1e-8100-a8f57475002c",
   "metadata": {},
   "outputs": [],
   "source": [
    "def print_please(theta = 5.502):\n",
    "    n = 100\n",
    "    random_array = np.random.rand(n)\n",
    "    a = (1 - random_array) ** (1/(1 - theta))\n",
    "    a = sorted(a)\n",
    "    print('Наша прекрасная выборка:')\n",
    "    print(a)\n",
    "    print()\n",
    "    left_part_med, right_part_med = median(a)\n",
    "    left_part_as, right_part_as = theta_est(a)\n",
    "    left_part_boot_nep, right_part_boot_nep = boot_nep(a)\n",
    "    left_part_boot_par, right_part_boot_par = boot_par(a)\n",
    "    plt.plot((left_part_as, right_part_as), (0, 0), label= \"Асимптотическая оценка параметра\")\n",
    "    plt.plot((left_part_med, right_part_med), (1, 1), label= \"Асимптотическая оценка медианы\")\n",
    "    plt.plot((left_part_boot_nep, right_part_boot_nep), (2, 2), label= \"Непараметрический бутстрап\")\n",
    "    plt.plot((left_part_boot_par, right_part_boot_par), (3, 3), label= 'Параметрический бутстрап')\n",
    "    plt.legend(bbox_to_anchor=(1.05, 1.0), loc='upper left')\n",
    "    plt.tight_layout()"
   ]
  },
  {
   "cell_type": "markdown",
   "id": "cd818bca-6520-490b-bc9a-792db769dd2f",
   "metadata": {},
   "source": [
    "# ОБЩИЙ РЕЗУЛЬТАТ"
   ]
  },
  {
   "cell_type": "code",
   "execution_count": 183,
   "id": "67570002-842c-4b52-b3a3-6d9878b2bbf8",
   "metadata": {},
   "outputs": [
    {
     "name": "stdout",
     "output_type": "stream",
     "text": [
      "Наша прекрасная выборка:\n",
      "[1.0149625789828927, 1.0155864251097635, 1.0179934439522438, 1.018759998221003, 1.0227771285992697, 1.0229447161316811, 1.0258793026901367, 1.028530014867412, 1.0315079199950026, 1.0383855507499713, 1.0435105696363884, 1.0441243996780205, 1.0468279372263685, 1.0469414792349019, 1.047674352062031, 1.052630685276465, 1.055747035929126, 1.0558360001423563, 1.057607364166856, 1.058665156291623, 1.0631619025077448, 1.0641643955522853, 1.0855254031531592, 1.0864685441419357, 1.086812553562096, 1.0887995263554184, 1.0904064801772708, 1.0928654450069941, 1.0984322206839487, 1.0987931768881058, 1.0990681782733691, 1.1046263792190398, 1.1087106310235662, 1.1143026959433509, 1.1146219073325532, 1.1210806122569936, 1.1215600462604083, 1.1215997989320365, 1.1299966465569264, 1.1316143808799275, 1.1485465912825374, 1.1490086818748466, 1.1497818631592662, 1.151971744200237, 1.1536926542111052, 1.154919917764648, 1.1597096701231817, 1.169422238977179, 1.169815824705496, 1.1711362278686088, 1.1800843723470666, 1.18560789819353, 1.1892753703913372, 1.1982337065412658, 1.206178662811347, 1.2211793057757239, 1.2245213002660134, 1.2328196492410557, 1.2522579386408992, 1.2537766618903126, 1.2597939132464802, 1.2603486226708667, 1.264515326485297, 1.276469221160297, 1.2953210604770398, 1.3079813879090019, 1.3133769971193445, 1.31939866664469, 1.320247517506475, 1.3217024575580627, 1.3239928748647771, 1.3244668818154042, 1.3318361608813807, 1.34762839454026, 1.3531211838944368, 1.356667073033015, 1.36964719124099, 1.4038845989485003, 1.4065244137078672, 1.4200817410550948, 1.4551590338773075, 1.4561093987900886, 1.4598098245257467, 1.4800810500280281, 1.515603586255532, 1.5466053639942985, 1.584628495446417, 1.6405592069613661, 1.642643519504719, 1.6849797935881998, 1.7244529555637615, 1.7797165258338694, 1.7910913427896555, 1.8028515526618218, 1.8792270702399143, 1.9474210291898022, 2.00751115172126, 2.421164017993051, 2.467063316342259, 2.516976376109947]\n",
      "\n",
      "                    МЕДИАНА\n",
      "1.1321738747179035 < theta < 1.2031145468771112\n",
      "Длина доверительного интервала равна 0.07094067215920763\n",
      "\n",
      "    АСИМПТОТИЧЕСКИЙ ДОВЕРИТЕЛЬНЫЙ ИНТЕРВАЛ ДЛЯ ПАРАМЕТРА\n",
      "5.163011639803936 < theta < 5.502707843551469\n",
      "Длина доверительного интервала равна 0.3396962037475326\n",
      "\n",
      "   БУТСТРАПОВСКИЙ ДОВЕРИТЕЛЬНЫЙ ИНТЕРВАЛ (НЕПАРАМЕТРИЧЕСКИЙ)\n",
      "4.47541285726533 < theta < 5.95835528238052\n",
      "Длина бутстраповского доверительного интервала равна (непарам) 1.4829424251151897\n",
      "\n",
      "    БУТСТРАПОВСКИЙ ДОВЕРИТЕЛЬНЫЙ ИНТЕРВАЛ (ПАРАМЕТРИЧЕСКИЙ)\n",
      "1.4765006272429595 < theta < 1.4948303199233672\n",
      "Длина бутстраповского доверительного интервала (парам.) равна 0.01832969268040774\n",
      "\n"
     ]
    },
    {
     "data": {
      "image/png": "[encoded data removed]",
      "text/plain": [
       "<Figure size 640x480 with 1 Axes>"
      ]
     },
     "metadata": {},
     "output_type": "display_data"
    }
   ],
   "source": [
    "print_please()"
   ]
  },
  {
   "cell_type": "code",
   "execution_count": null,
   "id": "71741314-d9c5-4df7-8347-2dd63db50546",
   "metadata": {},
   "outputs": [],
   "source": []
  },
  {
   "cell_type": "code",
   "execution_count": null,
   "id": "abea1d2f-513d-4a1b-8912-3431d8d3381c",
   "metadata": {},
   "outputs": [],
   "source": []
  }
 ],
 "metadata": {
  "kernelspec": {
   "display_name": "Python 3 (ipykernel)",
   "language": "python",
   "name": "python3"
  },
  "language_info": {
   "codemirror_mode": {
    "name": "ipython",
    "version": 3
   },
   "file_extension": ".py",
   "mimetype": "text/x-python",
   "name": "python",
   "nbconvert_exporter": "python",
   "pygments_lexer": "ipython3",
   "version": "3.10.12"
  }
 },
 "nbformat": 4,
 "nbformat_minor": 5
}
