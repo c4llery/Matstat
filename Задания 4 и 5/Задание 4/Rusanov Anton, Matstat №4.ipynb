{
 "cells": [
  {
   "cell_type": "code",
   "execution_count": 293,
   "id": "96fafc1b-ecae-41bb-be68-c0c965ce92df",
   "metadata": {},
   "outputs": [],
   "source": [
    "import numpy as np\n",
    "import matplotlib.pyplot as plt"
   ]
  },
  {
   "cell_type": "code",
   "execution_count": 294,
   "id": "5498121d-357c-464f-b4eb-0cbc0bad54d8",
   "metadata": {},
   "outputs": [
    {
     "name": "stdout",
     "output_type": "stream",
     "text": [
      "[49.53984422 32.07236297 37.88999549 43.83346053 44.9555813  38.27980035\n",
      " 43.7833018  31.00348398 34.68472479 30.15816704 27.02554726 36.46029384\n",
      " 42.81549855 43.34115889 39.28399995 46.48045227 26.30644744 46.16023881\n",
      " 33.74257659 48.80540569 47.69694254 26.50427655 48.62986594 26.29968743\n",
      " 48.10633381 33.53546465 37.54015199 28.92253768 36.27261669 27.41680391\n",
      " 25.09369395 28.29750842 26.16797766 39.35977927 38.66308687 45.14072209\n",
      " 35.58820133 38.7739599  25.23816768 40.25828346 33.67310235 45.77776726\n",
      " 46.6685134  44.75567713 44.5184879  48.28443156 30.23771656 32.87980915\n",
      " 46.12929683 48.45996166 27.24385251 46.58938501 38.95064808 25.99808953\n",
      " 27.3768729  26.47042963 39.91194217 39.13886296 39.99217239 29.42882817\n",
      " 34.09525067 28.62112724 29.31336946 49.85792528 39.29324175 41.20004427\n",
      " 35.25197277 29.93964876 35.25830226 38.1029223  27.31463344 40.19252537\n",
      " 27.33849584 42.57630396 26.48519146 42.83869437 43.36820938 32.73590605\n",
      " 27.24963513 27.56237023 25.74076167 42.08705011 48.64941125 42.82245174\n",
      " 37.54098024 40.10800184 26.87579945 48.61411816 36.2912106  33.68323406\n",
      " 35.90688636 30.31539217 33.32432858 38.73710267 34.110616   35.06331123\n",
      " 30.56627068 32.81919291 44.96408495 45.54924886]\n"
     ]
    }
   ],
   "source": [
    "tetta = 25.02\n",
    "vib = list()\n",
    "n = 100\n",
    "a = np.random.uniform(tetta, 2 * tetta, n)\n",
    "a\n",
    "betta = 0.95\n",
    "def alpha_1(a):\n",
    "    return sum(a)/n\n",
    "def alpha_2(a):\n",
    "    return sum(a ** 2)/n\n",
    "print(a)"
   ]
  },
  {
   "cell_type": "markdown",
   "id": "323f14fd-a8a9-46c0-a681-6ab37540f843",
   "metadata": {},
   "source": [
    "## Проверка доверительных интервалов: n = 100, доверительная вероятность = 0.95"
   ]
  },
  {
   "cell_type": "markdown",
   "id": "58b1bf6b-ee50-4fa6-84b5-435a7e8c3a87",
   "metadata": {},
   "source": [
    "# Точный доверительный интервал"
   ]
  },
  {
   "cell_type": "code",
   "execution_count": 295,
   "id": "c36ad2b4-3209-41d4-b725-38aff16ed38b",
   "metadata": {},
   "outputs": [],
   "source": [
    "def exact(a, betta = 0.95):\n",
    "    left_part_exact = max(a) / (((1 + betta) / 2) ** (1/n) + 1)\n",
    "    right_part_exact = max(a) / (((1 - betta) / 2) ** (1/n) + 1)\n",
    "    print('              ТОЧНЫЙ ДОВЕРИТЕЛЬНЫЙ ИНТЕРВАЛ')\n",
    "    print(left_part_exact,'< theta <', right_part_exact)\n",
    "    print('Длина точного доверительного интервала равна', right_part_exact - left_part_exact)\n",
    "    print()\n",
    "    return left_part_exact, right_part_exact"
   ]
  },
  {
   "cell_type": "markdown",
   "id": "d952dc6b-5a67-4729-bf34-233947edcaa3",
   "metadata": {},
   "source": [
    "#### Асимтотический доверительный интервал для $\\tilde{\\theta} = \\frac{2}{3}x_{ср}$"
   ]
  },
  {
   "cell_type": "code",
   "execution_count": 296,
   "id": "ff59b5e6-87c1-42f9-aaea-992b2a475655",
   "metadata": {},
   "outputs": [],
   "source": [
    "def as_OMM(a, betta = 0.95):\n",
    "    left_part_as_OMM = -1.96 * 2/3 * (alpha_2(a) - alpha_1(a) ** 2) ** (1/2) / (n) ** (1/2) + 2/3 * np.mean(a)\n",
    "    right_part_as_OMM = 1.96 * 2/3 * (alpha_2(a) - alpha_1(a) ** 2) ** (1/2) / (n) ** (1/2) + 2/3 * np.mean(a)\n",
    "    print('         АСИМПТОТИЧЕСКИЙ ДОВЕРИТЕЛЬНЫЙ ИНТЕРВАЛ (ОММ)')\n",
    "    print(left_part_as_OMM, '< theta', right_part_as_OMM)\n",
    "    print('Длина асимптотического доверительного интервала равна', right_part_as_OMM - left_part_as_OMM)\n",
    "    print()\n",
    "    return left_part_as_OMM, right_part_as_OMM"
   ]
  },
  {
   "cell_type": "code",
   "execution_count": 297,
   "id": "dc8ef8de-6da7-4220-97cb-49fac8e1b14a",
   "metadata": {},
   "outputs": [],
   "source": [
    "def get_bootstrap_sample(x, B_sample = 1000):\n",
    "    N = len(x)\n",
    "    result = list()\n",
    "    for i in range (B_sample):\n",
    "        sample = np.random.choice(x, size = N, replace = True)\n",
    "        if (B_sample == 1):\n",
    "            sample = sample.T[0]\n",
    "        result.append(sample)\n",
    "    return result"
   ]
  },
  {
   "cell_type": "markdown",
   "id": "3697f4e9-dd08-4a25-84f4-d020595f8208",
   "metadata": {},
   "source": [
    "## Построение бутстраповского доверительного интервала (непарам.) для $\\tilde{\\theta} = \\frac{2}{3}x_{ср}$"
   ]
  },
  {
   "cell_type": "code",
   "execution_count": 298,
   "id": "28408bcd-e4a9-4566-a924-505ccd76e075",
   "metadata": {},
   "outputs": [],
   "source": [
    "def boot_OMM_nep(a):\n",
    "    origin_mean = 2/3 * a.mean()\n",
    "    sample = np.array(get_bootstrap_sample(a))\n",
    "    boot_mean = list()\n",
    "    for i in range(1000):\n",
    "        boot_mean.append(2/3 * sample[i].mean())\n",
    "    boot_mean = np.array(boot_mean)\n",
    "    delta = boot_mean - origin_mean\n",
    "    delta.sort()\n",
    "    k1 = 24\n",
    "    k2 = 974\n",
    "    left_part_OMM_nep = origin_mean - delta[k2]\n",
    "    right_part_OMM_nep = origin_mean - delta[k1]\n",
    "    print('   БУТСТРАПОВСКИЙ ДОВЕРИТЕЛЬНЫЙ ИНТЕРВАЛ (НЕПАРАМЕТРИЧЕСКИЙ) ДЛЯ ОММ')\n",
    "    print(left_part_OMM_nep, '< theta <', right_part_OMM_nep)\n",
    "    print('Длина бутстраповского доверительного интервала (непарам.) равна', right_part_OMM_nep - left_part_OMM_nep)\n",
    "    print()\n",
    "    return left_part_OMM_nep, right_part_OMM_nep\n"
   ]
  },
  {
   "cell_type": "markdown",
   "id": "b47d10f5-35f3-4f69-9272-0cb982b5024b",
   "metadata": {},
   "source": [
    "## Построение бутстраповского доверительного интервала (парам.) для $\\tilde{\\theta} = \\frac{2}{3}x_{ср}$"
   ]
  },
  {
   "cell_type": "code",
   "execution_count": 299,
   "id": "ef9347c6-e44c-4427-ba74-9a4830e69cb2",
   "metadata": {},
   "outputs": [],
   "source": [
    "def boot_OMM_par(a):\n",
    "    origin_mean = 2/3 * a.mean()\n",
    "    tetta = origin_mean\n",
    "    n = 100\n",
    "    sample = list()\n",
    "    sample_grade = list()\n",
    "    for i in range(50000):\n",
    "        sample.append(np.random.uniform(tetta, 2 * tetta, n))\n",
    "        sample_grade.append(2 / 3 * sample[i].mean())\n",
    "    sample = np.array(sample)\n",
    "    sample_grade = np.array(sample_grade)\n",
    "    sample_grade.sort()\n",
    "    k1 = 1249\n",
    "    k2 = 48749\n",
    "    left_part_OMM_par = sample_grade[k1]\n",
    "    right_part_OMM_par = sample_grade[k2]\n",
    "    print('    БУТСТРАПОВСКИЙ ДОВЕРИТЕЛЬНЫЙ ИНТЕРВАЛ (ПАРАМЕТРИЧЕСКИЙ) ДЛЯ ОММ')\n",
    "    print(left_part_OMM_par, '< theta <', right_part_OMM_par)\n",
    "    print('Длина бутстраповского доверительного интервала (парам.) равна', right_part_OMM_par - left_part_OMM_par)\n",
    "    print()\n",
    "    return left_part_OMM_par, right_part_OMM_par"
   ]
  },
  {
   "cell_type": "markdown",
   "id": "9b145488-edda-49fa-971c-1fc8b731f1d1",
   "metadata": {},
   "source": [
    "## Построение бутстраповского доверительного интервала (непарам.) для $\\tilde{\\theta} = \\frac{x_{max}}{2} $"
   ]
  },
  {
   "cell_type": "code",
   "execution_count": 300,
   "id": "8a15b5ed-57d3-49d1-8913-c81872741f0d",
   "metadata": {},
   "outputs": [],
   "source": [
    "def boot_OMP_nep(a):\n",
    "    origin_max = 1/2 * max(a)\n",
    "    sample = np.array(get_bootstrap_sample(a))\n",
    "    boot_max = list()\n",
    "    for i in range(1000):\n",
    "        boot_max.append(1/2 * sample[i].max())\n",
    "    boot_max = np.array(boot_max)\n",
    "    delta = boot_max - origin_max\n",
    "    delta.sort()\n",
    "    k1 = 24\n",
    "    k2 = 974\n",
    "    right_part_OMP_nep = origin_max - delta[k1]\n",
    "    left_part_OMP_nep = origin_max - delta[k2]\n",
    "    print('   БУТСТРАПОВСКИЙ ДОВЕРИТЕЛЬНЫЙ ИНТЕРВАЛ (НЕПАРАМЕТРИЧЕСКИЙ) ДЛЯ ОМП')\n",
    "    print(left_part_OMP_nep, '< theta <', right_part_OMP_nep)\n",
    "    print('Длина бутстраповского доверительного интервала равна (непарам)', right_part_OMP_nep - left_part_OMP_nep)\n",
    "    print()\n",
    "    return left_part_OMP_nep, right_part_OMP_nep"
   ]
  },
  {
   "cell_type": "markdown",
   "id": "95ddc414-37b0-4071-89e3-0d1a1688c686",
   "metadata": {},
   "source": [
    "## Построение бутстраповского доверительного интервала (парам.) для $\\tilde{\\theta} = \\frac{x_{max}}{2} $"
   ]
  },
  {
   "cell_type": "code",
   "execution_count": 301,
   "id": "b86f7dce-b9c9-4109-9911-0ba148054bdc",
   "metadata": {},
   "outputs": [],
   "source": [
    "def boot_OMP_par(a):\n",
    "    origin_max = 1/2 * max(a)\n",
    "    tetta = origin_max\n",
    "    n = 100\n",
    "    sample = list()\n",
    "    sample_grade = list()\n",
    "    for i in range(50000):\n",
    "        sample.append(np.random.uniform(tetta, 2 * tetta, n))\n",
    "        sample_grade.append(1 / 2 * sample[i].max())\n",
    "    sample = np.array(sample)\n",
    "    sample_grade = np.array(sample_grade)\n",
    "    sample_grade.sort()\n",
    "    k1 = 1249\n",
    "    k2 = 48749\n",
    "    right_part_OMP_par = sample_grade[k2]\n",
    "    left_part_OMP_par = sample_grade[k1]\n",
    "    print('   БУТСТРАПОВСКИЙ ДОВЕРИТЕЛЬНЫЙ ИНТЕРВАЛ (ПАРАМЕТРИЧЕСКИЙ) ДЛЯ ОМП')\n",
    "    print(left_part_OMP_par, '< theta <', right_part_OMP_par)\n",
    "    print('Длина бутстраповского доверительного интервала (парам.) равна', right_part_OMP_par - left_part_OMP_par)\n",
    "    print()\n",
    "    return left_part_OMP_par, right_part_OMP_par"
   ]
  },
  {
   "cell_type": "code",
   "execution_count": 314,
   "id": "527046cb-1f9f-4655-824c-77a29f87bbc6",
   "metadata": {},
   "outputs": [],
   "source": [
    "def print_please(tetta = 25.02):\n",
    "    n = 100\n",
    "    a = np.random.uniform(tetta, 2 * tetta, n)\n",
    "    print('Наша прекрасная выборка:')\n",
    "    print(a)\n",
    "    print()\n",
    "    left_part_exact, right_part_exact = exact(a)\n",
    "    left_part_as_OMM, right_part_as_OMM = as_OMM(a)\n",
    "    left_part_OMM_nep, right_part_OMM_nep = boot_OMM_nep(a)\n",
    "    left_part_OMM_par, right_part_OMM_par = boot_OMM_par(a)\n",
    "    left_part_OMP_nep, right_part_OMP_nep = boot_OMP_nep(a)\n",
    "    left_part_OMP_par, right_part_OMM_par = boot_OMP_par(a)\n",
    "    plt.plot((left_part_exact, right_part_exact), (0, 0), label= \"Точный\")\n",
    "    plt.plot((left_part_as_OMM, right_part_as_OMM), (1, 1), label= \"ОММ (асимптотически)\")\n",
    "    plt.plot((left_part_OMM_par, right_part_OMM_par), (2, 2), label= \"ОММ (параметрический бутстрап\")\n",
    "    plt.plot((left_part_OMM_nep, right_part_OMM_nep), (3, 3), label = \"ОММ (непараметрический бутстрап)\")\n",
    "    plt.plot((left_part_OMP_par, right_part_OMP_par), (4, 4), label= \"ОМП (параметрический бутстрап)\")\n",
    "    plt.plot((left_part_OMP_nep, right_part_OMP_nep), (5, 5), label= \"ОМП (непараметрический бутстрап)\")\n",
    "    plt.legend(bbox_to_anchor=(1.05, 1.0), loc='upper left')\n",
    "    plt.tight_layout()\n"
   ]
  },
  {
   "cell_type": "markdown",
   "id": "cc7dd776-9bb4-457e-9e14-02427747b403",
   "metadata": {},
   "source": [
    "# ОБЩИЙ РЕЗУЛЬТАТ"
   ]
  },
  {
   "cell_type": "code",
   "execution_count": 315,
   "id": "4ee00e4d-9496-41eb-b07a-40421f090036",
   "metadata": {},
   "outputs": [
    {
     "name": "stdout",
     "output_type": "stream",
     "text": [
      "Наша прекрасная выборка:\n",
      "[29.59815153 26.00815966 39.65230477 47.99295694 27.1972734  34.38764672\n",
      " 42.83927519 35.1944627  32.50447806 38.57110562 38.16294653 25.17968222\n",
      " 34.62605424 44.39732872 25.86349522 49.51223259 44.37884809 39.75675596\n",
      " 43.5336587  38.11001865 49.5585801  36.65560007 31.73708153 37.38297825\n",
      " 43.6234608  30.60217939 31.79935214 46.71083307 46.88592836 27.22143569\n",
      " 44.08005552 31.00282914 32.58412614 43.60769575 35.92936646 49.89566292\n",
      " 41.68930988 38.82808934 27.58687834 38.88913497 31.88669653 32.1494332\n",
      " 28.71906871 46.96485689 40.50419822 30.32937969 40.11567484 32.60659583\n",
      " 36.86147971 47.43567322 34.76568344 36.64179055 41.44716507 42.57451892\n",
      " 32.33003743 31.477442   38.360527   27.29410723 28.21045054 27.09392356\n",
      " 43.34046611 29.59545702 29.670597   48.35658227 29.70016046 37.55105018\n",
      " 29.90678656 33.45353368 33.0097618  49.67334269 43.80472778 48.11061237\n",
      " 37.82562791 45.99321456 27.95360388 25.50695479 47.06636056 44.35286012\n",
      " 28.83517238 43.50686515 29.78362117 27.12527394 38.3780216  39.57758632\n",
      " 39.76900358 42.2866613  40.87129927 48.3930551  37.37870443 41.57999858\n",
      " 41.77032733 49.98726925 31.96732848 49.47933921 35.1695792  25.45151069\n",
      " 31.19388246 45.33109136 37.03669204 38.47607292]\n",
      "\n",
      "              ТОЧНЫЙ ДОВЕРИТЕЛЬНЫЙ ИНТЕРВАЛ\n",
      "24.996798547653203 < theta < 25.45457488496975\n",
      "Длина точного доверительного интервала равна 0.4577763373165489\n",
      "\n",
      "         АСИМПТОТИЧЕСКИЙ ДОВЕРИТЕЛЬНЫЙ ИНТЕРВАЛ (ОММ)\n",
      "23.99611956043967 < theta 25.866896058591163\n",
      "Длина асимптотического доверительного интервала равна 1.8707764981514927\n",
      "\n",
      "   БУТСТРАПОВСКИЙ ДОВЕРИТЕЛЬНЫЙ ИНТЕРВАЛ (НЕПАРАМЕТРИЧЕСКИЙ) ДЛЯ ОММ\n",
      "24.007432626152223 < theta < 25.851599769283435\n",
      "Длина бутстраповского доверительного интервала (непарам.) равна 1.8441671431312123\n",
      "\n",
      "    БУТСТРАПОВСКИЙ ДОВЕРИТЕЛЬНЫЙ ИНТЕРВАЛ (ПАРАМЕТРИЧЕСКИЙ) ДЛЯ ОММ\n",
      "23.98991401967469 < theta < 25.8726204670102\n",
      "Длина бутстраповского доверительного интервала (парам.) равна 1.8827064473355115\n",
      "\n",
      "   БУТСТРАПОВСКИЙ ДОВЕРИТЕЛЬНЫЙ ИНТЕРВАЛ (НЕПАРАМЕТРИЧЕСКИЙ) ДЛЯ ОМП\n",
      "24.993634627458466 < theta < 25.207979203750295\n",
      "Длина бутстраповского доверительного интервала равна (непарам) 0.21434457629182901\n",
      "\n",
      "   БУТСТРАПОВСКИЙ ДОВЕРИТЕЛЬНЫЙ ИНТЕРВАЛ (ПАРАМЕТРИЧЕСКИЙ) ДЛЯ ОМП\n",
      "24.53779879067818 < theta < 24.990393786526976\n",
      "Длина бутстраповского доверительного интервала (парам.) равна 0.4525949958487949\n",
      "\n"
     ]
    },
    {
     "data": {
      "image/png": "[encoded data removed]",
      "text/plain": [
       "<Figure size 640x480 with 1 Axes>"
      ]
     },
     "metadata": {},
     "output_type": "display_data"
    }
   ],
   "source": [
    "print_please()"
   ]
  }
 ],
 "metadata": {
  "kernelspec": {
   "display_name": "Python 3 (ipykernel)",
   "language": "python",
   "name": "python3"
  },
  "language_info": {
   "codemirror_mode": {
    "name": "ipython",
    "version": 3
   },
   "file_extension": ".py",
   "mimetype": "text/x-python",
   "name": "python",
   "nbconvert_exporter": "python",
   "pygments_lexer": "ipython3",
   "version": "3.10.12"
  }
 },
 "nbformat": 4,
 "nbformat_minor": 5
}
